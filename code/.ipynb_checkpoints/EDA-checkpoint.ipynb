{
 "cells": [
  {
   "cell_type": "code",
   "execution_count": 30,
   "id": "acfae0df-ec23-49a4-b19a-ae6053343942",
   "metadata": {},
   "outputs": [],
   "source": [
    "import pandas as pd\n",
    "import matplotlib.pyplot as plt"
   ]
  },
  {
   "cell_type": "code",
   "execution_count": 2,
   "id": "0462c80a-dce4-400c-b263-474b7f8015b2",
   "metadata": {},
   "outputs": [],
   "source": [
    "data = pd.read_csv('../data/crime-data-versions/v9crimedata.csv')"
   ]
  },
  {
   "cell_type": "code",
   "execution_count": 3,
   "id": "cbb47694-ddbf-42dd-87ec-71ae2546de1b",
   "metadata": {},
   "outputs": [
    {
     "data": {
      "text/html": [
       "<div>\n",
       "<style scoped>\n",
       "    .dataframe tbody tr th:only-of-type {\n",
       "        vertical-align: middle;\n",
       "    }\n",
       "\n",
       "    .dataframe tbody tr th {\n",
       "        vertical-align: top;\n",
       "    }\n",
       "\n",
       "    .dataframe thead th {\n",
       "        text-align: right;\n",
       "    }\n",
       "</style>\n",
       "<table border=\"1\" class=\"dataframe\">\n",
       "  <thead>\n",
       "    <tr style=\"text-align: right;\">\n",
       "      <th></th>\n",
       "      <th>Incident UID</th>\n",
       "      <th>Agency</th>\n",
       "      <th>Incident Date</th>\n",
       "      <th>CIBRS Unique Offense ID</th>\n",
       "      <th>CIBRS Offense Code</th>\n",
       "      <th>CIBRS Offense Description</th>\n",
       "      <th>Victim UID</th>\n",
       "      <th>Victim Category</th>\n",
       "      <th>Victim Age</th>\n",
       "      <th>Overall Race</th>\n",
       "      <th>City</th>\n",
       "      <th>Zip Code</th>\n",
       "      <th>CIBRS Status</th>\n",
       "      <th>Domestic Violence Incident</th>\n",
       "      <th>HHSA Region</th>\n",
       "    </tr>\n",
       "  </thead>\n",
       "  <tbody>\n",
       "    <tr>\n",
       "      <th>0</th>\n",
       "      <td>661987</td>\n",
       "      <td>SAN DIEGO</td>\n",
       "      <td>2/18/21 17:40</td>\n",
       "      <td>661987-13A-679864</td>\n",
       "      <td>13A</td>\n",
       "      <td>Aggravated Assault</td>\n",
       "      <td>679864</td>\n",
       "      <td>I</td>\n",
       "      <td>22</td>\n",
       "      <td>HISPANIC</td>\n",
       "      <td>SAN DIEGO</td>\n",
       "      <td>92037</td>\n",
       "      <td>ProcessingComplete - Valid</td>\n",
       "      <td>True</td>\n",
       "      <td>NORTH CENTRAL</td>\n",
       "    </tr>\n",
       "    <tr>\n",
       "      <th>1</th>\n",
       "      <td>793674</td>\n",
       "      <td>SAN DIEGO</td>\n",
       "      <td>3/16/21 5:30</td>\n",
       "      <td>793674-11A-818279</td>\n",
       "      <td>11A</td>\n",
       "      <td>Forcible Rape</td>\n",
       "      <td>818279</td>\n",
       "      <td>I</td>\n",
       "      <td>41</td>\n",
       "      <td>WHITE</td>\n",
       "      <td>SAN DIEGO</td>\n",
       "      <td>92110</td>\n",
       "      <td>ProcessingComplete - Valid</td>\n",
       "      <td>False</td>\n",
       "      <td>NORTH CENTRAL</td>\n",
       "    </tr>\n",
       "    <tr>\n",
       "      <th>2</th>\n",
       "      <td>859375</td>\n",
       "      <td>NATIONAL CITY</td>\n",
       "      <td>3/22/21 14:25</td>\n",
       "      <td>859375-11A-887268</td>\n",
       "      <td>11A</td>\n",
       "      <td>Forcible Rape</td>\n",
       "      <td>887268</td>\n",
       "      <td>I</td>\n",
       "      <td>22</td>\n",
       "      <td>HISPANIC</td>\n",
       "      <td>NATIONAL CITY</td>\n",
       "      <td>91950</td>\n",
       "      <td>ProcessingComplete - Valid</td>\n",
       "      <td>False</td>\n",
       "      <td>SOUTH</td>\n",
       "    </tr>\n",
       "    <tr>\n",
       "      <th>3</th>\n",
       "      <td>658884</td>\n",
       "      <td>SAN DIEGO</td>\n",
       "      <td>3/24/21 12:00</td>\n",
       "      <td>658884-13B-676587</td>\n",
       "      <td>13B</td>\n",
       "      <td>Simple Assault</td>\n",
       "      <td>676587</td>\n",
       "      <td>I</td>\n",
       "      <td>45</td>\n",
       "      <td>HISPANIC</td>\n",
       "      <td>SAN DIEGO</td>\n",
       "      <td>92101</td>\n",
       "      <td>ProcessingComplete - Valid</td>\n",
       "      <td>True</td>\n",
       "      <td>CENTRAL</td>\n",
       "    </tr>\n",
       "    <tr>\n",
       "      <th>4</th>\n",
       "      <td>721771</td>\n",
       "      <td>CARLSBAD</td>\n",
       "      <td>5/4/21 18:54</td>\n",
       "      <td>721771-13B-743217</td>\n",
       "      <td>13B</td>\n",
       "      <td>Simple Assault</td>\n",
       "      <td>743217</td>\n",
       "      <td>I</td>\n",
       "      <td>28</td>\n",
       "      <td>HISPANIC</td>\n",
       "      <td>CARLSBAD</td>\n",
       "      <td>92011</td>\n",
       "      <td>ProcessingComplete - Valid</td>\n",
       "      <td>False</td>\n",
       "      <td>NORTH COASTAL</td>\n",
       "    </tr>\n",
       "  </tbody>\n",
       "</table>\n",
       "</div>"
      ],
      "text/plain": [
       "   Incident UID         Agency  Incident Date CIBRS Unique Offense ID  \\\n",
       "0        661987      SAN DIEGO  2/18/21 17:40       661987-13A-679864   \n",
       "1        793674      SAN DIEGO   3/16/21 5:30       793674-11A-818279   \n",
       "2        859375  NATIONAL CITY  3/22/21 14:25       859375-11A-887268   \n",
       "3        658884      SAN DIEGO  3/24/21 12:00       658884-13B-676587   \n",
       "4        721771       CARLSBAD   5/4/21 18:54       721771-13B-743217   \n",
       "\n",
       "  CIBRS Offense Code CIBRS Offense Description  Victim UID Victim Category  \\\n",
       "0                13A        Aggravated Assault      679864               I   \n",
       "1                11A             Forcible Rape      818279               I   \n",
       "2                11A             Forcible Rape      887268               I   \n",
       "3                13B            Simple Assault      676587               I   \n",
       "4                13B            Simple Assault      743217               I   \n",
       "\n",
       "   Victim Age Overall Race           City  Zip Code  \\\n",
       "0          22     HISPANIC      SAN DIEGO     92037   \n",
       "1          41        WHITE      SAN DIEGO     92110   \n",
       "2          22     HISPANIC  NATIONAL CITY     91950   \n",
       "3          45     HISPANIC      SAN DIEGO     92101   \n",
       "4          28     HISPANIC       CARLSBAD     92011   \n",
       "\n",
       "                 CIBRS Status  Domestic Violence Incident    HHSA Region  \n",
       "0  ProcessingComplete - Valid                        True  NORTH CENTRAL  \n",
       "1  ProcessingComplete - Valid                       False  NORTH CENTRAL  \n",
       "2  ProcessingComplete - Valid                       False          SOUTH  \n",
       "3  ProcessingComplete - Valid                        True        CENTRAL  \n",
       "4  ProcessingComplete - Valid                       False  NORTH COASTAL  "
      ]
     },
     "execution_count": 3,
     "metadata": {},
     "output_type": "execute_result"
    }
   ],
   "source": [
    "data.head()"
   ]
  },
  {
   "cell_type": "markdown",
   "id": "9d68de31-5f76-4f05-9d62-d33d75fe17b6",
   "metadata": {},
   "source": [
    "## basic info about the data"
   ]
  },
  {
   "cell_type": "code",
   "execution_count": 40,
   "id": "5d52c1c6-f62d-4a1d-8104-b0804989e4e2",
   "metadata": {},
   "outputs": [
    {
     "name": "stdout",
     "output_type": "stream",
     "text": [
      "<class 'pandas.core.frame.DataFrame'>\n",
      "RangeIndex: 54678 entries, 0 to 54677\n",
      "Data columns (total 15 columns):\n",
      " #   Column                      Non-Null Count  Dtype         \n",
      "---  ------                      --------------  -----         \n",
      " 0   Incident UID                54678 non-null  int64         \n",
      " 1   Agency                      54678 non-null  object        \n",
      " 2   Incident Date               54678 non-null  datetime64[ns]\n",
      " 3   CIBRS Unique Offense ID     54678 non-null  object        \n",
      " 4   CIBRS Offense Code          54678 non-null  object        \n",
      " 5   CIBRS Offense Description   54678 non-null  object        \n",
      " 6   Victim UID                  54678 non-null  int64         \n",
      " 7   Victim Category             54678 non-null  object        \n",
      " 8   Victim Age                  54678 non-null  int64         \n",
      " 9   Overall Race                54678 non-null  object        \n",
      " 10  City                        54678 non-null  object        \n",
      " 11  Zip Code                    54678 non-null  int64         \n",
      " 12  CIBRS Status                54678 non-null  object        \n",
      " 13  Domestic Violence Incident  54678 non-null  bool          \n",
      " 14  HHSA Region                 54678 non-null  object        \n",
      "dtypes: bool(1), datetime64[ns](1), int64(4), object(9)\n",
      "memory usage: 5.9+ MB\n"
     ]
    }
   ],
   "source": [
    "data.info()"
   ]
  },
  {
   "cell_type": "code",
   "execution_count": 42,
   "id": "bae4f868-a50b-47b3-a836-1a6c59138a2e",
   "metadata": {},
   "outputs": [
    {
     "data": {
      "text/html": [
       "<div>\n",
       "<style scoped>\n",
       "    .dataframe tbody tr th:only-of-type {\n",
       "        vertical-align: middle;\n",
       "    }\n",
       "\n",
       "    .dataframe tbody tr th {\n",
       "        vertical-align: top;\n",
       "    }\n",
       "\n",
       "    .dataframe thead th {\n",
       "        text-align: right;\n",
       "    }\n",
       "</style>\n",
       "<table border=\"1\" class=\"dataframe\">\n",
       "  <thead>\n",
       "    <tr style=\"text-align: right;\">\n",
       "      <th></th>\n",
       "      <th>Incident UID</th>\n",
       "      <th>Incident Date</th>\n",
       "      <th>Victim UID</th>\n",
       "      <th>Victim Age</th>\n",
       "      <th>Zip Code</th>\n",
       "    </tr>\n",
       "  </thead>\n",
       "  <tbody>\n",
       "    <tr>\n",
       "      <th>count</th>\n",
       "      <td>5.467800e+04</td>\n",
       "      <td>54678</td>\n",
       "      <td>5.467800e+04</td>\n",
       "      <td>54678.000000</td>\n",
       "      <td>54678.000000</td>\n",
       "    </tr>\n",
       "    <tr>\n",
       "      <th>mean</th>\n",
       "      <td>1.555471e+06</td>\n",
       "      <td>2022-11-07 10:51:13.828596480</td>\n",
       "      <td>1.422683e+06</td>\n",
       "      <td>37.414225</td>\n",
       "      <td>92052.798676</td>\n",
       "    </tr>\n",
       "    <tr>\n",
       "      <th>min</th>\n",
       "      <td>4.143970e+05</td>\n",
       "      <td>2021-01-01 00:01:00</td>\n",
       "      <td>4.257940e+05</td>\n",
       "      <td>18.000000</td>\n",
       "      <td>91901.000000</td>\n",
       "    </tr>\n",
       "    <tr>\n",
       "      <th>25%</th>\n",
       "      <td>1.006245e+06</td>\n",
       "      <td>2021-11-22 18:37:30</td>\n",
       "      <td>1.041300e+06</td>\n",
       "      <td>27.000000</td>\n",
       "      <td>92020.000000</td>\n",
       "    </tr>\n",
       "    <tr>\n",
       "      <th>50%</th>\n",
       "      <td>1.629547e+06</td>\n",
       "      <td>2022-10-24 19:54:30</td>\n",
       "      <td>1.469153e+06</td>\n",
       "      <td>34.000000</td>\n",
       "      <td>92071.000000</td>\n",
       "    </tr>\n",
       "    <tr>\n",
       "      <th>75%</th>\n",
       "      <td>2.072288e+06</td>\n",
       "      <td>2023-10-12 22:45:00</td>\n",
       "      <td>1.830946e+06</td>\n",
       "      <td>45.000000</td>\n",
       "      <td>92109.000000</td>\n",
       "    </tr>\n",
       "    <tr>\n",
       "      <th>max</th>\n",
       "      <td>2.350606e+06</td>\n",
       "      <td>2024-09-30 23:50:00</td>\n",
       "      <td>2.060309e+06</td>\n",
       "      <td>100.000000</td>\n",
       "      <td>92672.000000</td>\n",
       "    </tr>\n",
       "    <tr>\n",
       "      <th>std</th>\n",
       "      <td>5.440128e+05</td>\n",
       "      <td>NaN</td>\n",
       "      <td>4.308265e+05</td>\n",
       "      <td>13.907249</td>\n",
       "      <td>70.475083</td>\n",
       "    </tr>\n",
       "  </tbody>\n",
       "</table>\n",
       "</div>"
      ],
      "text/plain": [
       "       Incident UID                  Incident Date    Victim UID  \\\n",
       "count  5.467800e+04                          54678  5.467800e+04   \n",
       "mean   1.555471e+06  2022-11-07 10:51:13.828596480  1.422683e+06   \n",
       "min    4.143970e+05            2021-01-01 00:01:00  4.257940e+05   \n",
       "25%    1.006245e+06            2021-11-22 18:37:30  1.041300e+06   \n",
       "50%    1.629547e+06            2022-10-24 19:54:30  1.469153e+06   \n",
       "75%    2.072288e+06            2023-10-12 22:45:00  1.830946e+06   \n",
       "max    2.350606e+06            2024-09-30 23:50:00  2.060309e+06   \n",
       "std    5.440128e+05                            NaN  4.308265e+05   \n",
       "\n",
       "         Victim Age      Zip Code  \n",
       "count  54678.000000  54678.000000  \n",
       "mean      37.414225  92052.798676  \n",
       "min       18.000000  91901.000000  \n",
       "25%       27.000000  92020.000000  \n",
       "50%       34.000000  92071.000000  \n",
       "75%       45.000000  92109.000000  \n",
       "max      100.000000  92672.000000  \n",
       "std       13.907249     70.475083  "
      ]
     },
     "execution_count": 42,
     "metadata": {},
     "output_type": "execute_result"
    }
   ],
   "source": [
    "data.describe()"
   ]
  },
  {
   "cell_type": "markdown",
   "id": "9812c28c-14d8-4f59-8c04-4f2943208950",
   "metadata": {},
   "source": [
    "## analyzing the different crime types"
   ]
  },
  {
   "cell_type": "code",
   "execution_count": 19,
   "id": "2afb5a9d-ae3a-4fcd-a946-813e9b01d005",
   "metadata": {},
   "outputs": [
    {
     "data": {
      "text/plain": [
       "CIBRS Offense Description\n",
       "Simple Assault                             33439\n",
       "Aggravated Assault                         12156\n",
       "Intimidation                                3621\n",
       "Kidnaping/Abduction                         1831\n",
       "Forcible Rape                               1676\n",
       "Forcible Fondling                           1327\n",
       "Sexual Assault With An Object                285\n",
       "Forcible Sodomy                              245\n",
       "Murder and Nonnegligent Manslaughter          61\n",
       "Negligent Manslaughter                        18\n",
       "Statutory Rape                                 9\n",
       "Human Trafficking,Involuntary Servitude        9\n",
       "Incest                                         1\n",
       "Name: count, dtype: int64"
      ]
     },
     "execution_count": 19,
     "metadata": {},
     "output_type": "execute_result"
    }
   ],
   "source": [
    "# counts of different types of crimes \n",
    "\n",
    "data['CIBRS Offense Description'].value_counts()"
   ]
  },
  {
   "cell_type": "markdown",
   "id": "630a2e1f-9675-4576-8b3f-c487d72c614c",
   "metadata": {},
   "source": [
    "## analyze the victim age data"
   ]
  },
  {
   "cell_type": "code",
   "execution_count": 21,
   "id": "c45f07a3-752f-428c-9839-be5587d0d154",
   "metadata": {},
   "outputs": [
    {
     "data": {
      "text/plain": [
       "<Axes: >"
      ]
     },
     "execution_count": 21,
     "metadata": {},
     "output_type": "execute_result"
    },
    {
     "data": {
      "image/png": "[encoded data removed]",
      "text/plain": [
       "<Figure size 640x480 with 1 Axes>"
      ]
     },
     "metadata": {},
     "output_type": "display_data"
    }
   ],
   "source": [
    "data['Victim Age'].hist()"
   ]
  },
  {
   "cell_type": "markdown",
   "id": "2c40b596-9c1e-4e67-8e0f-0c4103f1bcb6",
   "metadata": {},
   "source": [
    "## analyze the incident date/time data"
   ]
  },
  {
   "cell_type": "code",
   "execution_count": 34,
   "id": "d1654a06-1a5b-41dc-801c-477b420729c8",
   "metadata": {},
   "outputs": [
    {
     "name": "stderr",
     "output_type": "stream",
     "text": [
      "/var/folders/t3/lcxwstl540v36vw3cmmbqzc80000gn/T/ipykernel_95168/522142678.py:1: UserWarning: Could not infer format, so each element will be parsed individually, falling back to `dateutil`. To ensure parsing is consistent and as-expected, please specify a format.\n",
      "  data['Incident Date'] = pd.to_datetime(data['Incident Date'])\n"
     ]
    }
   ],
   "source": [
    "data['Incident Date'] = pd.to_datetime(data['Incident Date'])"
   ]
  },
  {
   "cell_type": "code",
   "execution_count": 38,
   "id": "99cc8556-6a0e-48a2-89ac-cb22914b19af",
   "metadata": {},
   "outputs": [
    {
     "data": {
      "text/plain": [
       "Incident UID                           int64\n",
       "Agency                                object\n",
       "Incident Date                 datetime64[ns]\n",
       "CIBRS Unique Offense ID               object\n",
       "CIBRS Offense Code                    object\n",
       "CIBRS Offense Description             object\n",
       "Victim UID                             int64\n",
       "Victim Category                       object\n",
       "Victim Age                             int64\n",
       "Overall Race                          object\n",
       "City                                  object\n",
       "Zip Code                               int64\n",
       "CIBRS Status                          object\n",
       "Domestic Violence Incident              bool\n",
       "HHSA Region                           object\n",
       "dtype: object"
      ]
     },
     "execution_count": 38,
     "metadata": {},
     "output_type": "execute_result"
    }
   ],
   "source": [
    "data.dtypes"
   ]
  }
 ],
 "metadata": {
  "kernelspec": {
   "display_name": "Python 3 (ipykernel)",
   "language": "python",
   "name": "python3"
  },
  "language_info": {
   "codemirror_mode": {
    "name": "ipython",
    "version": 3
   },
   "file_extension": ".py",
   "mimetype": "text/x-python",
   "name": "python",
   "nbconvert_exporter": "python",
   "pygments_lexer": "ipython3",
   "version": "3.12.4"
  }
 },
 "nbformat": 4,
 "nbformat_minor": 5
}
