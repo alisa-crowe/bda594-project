{
 "cells": [
  {
   "cell_type": "code",
   "execution_count": 1,
   "id": "d2cff511-08ae-488c-8c21-9132fa62885b",
   "metadata": {},
   "outputs": [],
   "source": [
    "import pandas as pd"
   ]
  },
  {
   "cell_type": "code",
   "execution_count": null,
   "id": "de87a1a7-22f1-480f-9610-a1921523da18",
   "metadata": {},
   "outputs": [],
   "source": [
    "df = pd.read_csv(\"..\\..\\\")"
   ]
  }
 ],
 "metadata": {
  "kernelspec": {
   "display_name": "Python 3 (ipykernel)",
   "language": "python",
   "name": "python3"
  },
  "language_info": {
   "codemirror_mode": {
    "name": "ipython",
    "version": 3
   },
   "file_extension": ".py",
   "mimetype": "text/x-python",
   "name": "python",
   "nbconvert_exporter": "python",
   "pygments_lexer": "ipython3",
   "version": "3.12.4"
  }
 },
 "nbformat": 4,
 "nbformat_minor": 5
}
